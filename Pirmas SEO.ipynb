{
    "cells": [
        {
            "cell_type": "markdown",
            "metadata": {},
            "source": "# SEO Analisys  "
        },
        {
            "cell_type": "code",
            "execution_count": 1,
            "metadata": {},
            "outputs": [
                {
                    "data": {
                        "text/html": "<div>\n<style scoped>\n    .dataframe tbody tr th:only-of-type {\n        vertical-align: middle;\n    }\n\n    .dataframe tbody tr th {\n        vertical-align: top;\n    }\n\n    .dataframe thead th {\n        text-align: right;\n    }\n</style>\n<table border=\"1\" class=\"dataframe\">\n  <thead>\n    <tr style=\"text-align: right;\">\n      <th></th>\n      <th>Title</th>\n      <th>Domain</th>\n      <th>RefDomains</th>\n      <th>AlexaRank</th>\n      <th>Matches</th>\n      <th>MatchedLinks</th>\n      <th>ExtBackLinks</th>\n      <th>IndexedURLs</th>\n      <th>CrawledURLs</th>\n      <th>FirstCrawled</th>\n      <th>...</th>\n      <th>Direct</th>\n      <th>Indirect</th>\n      <th>Follow</th>\n      <th>NoFollow</th>\n      <th>HTTP</th>\n      <th>HTTPS</th>\n      <th>Redirect</th>\n      <th>TextLink</th>\n      <th>ImageLink</th>\n      <th>Frame</th>\n    </tr>\n  </thead>\n  <tbody>\n    <tr>\n      <th>0</th>\n      <td>\u9996\u9801 | PTT\u9ad4\u80b2\u5340</td>\n      <td>pttsports.com</td>\n      <td>14</td>\n      <td>-1</td>\n      <td>0</td>\n      <td>23</td>\n      <td>662850</td>\n      <td>412017</td>\n      <td>312263</td>\n      <td>2020-05-12</td>\n      <td>...</td>\n      <td>23</td>\n      <td>0</td>\n      <td>0</td>\n      <td>23</td>\n      <td>0</td>\n      <td>23</td>\n      <td>0</td>\n      <td>23</td>\n      <td>0</td>\n      <td>0</td>\n    </tr>\n    <tr>\n      <th>1</th>\n      <td>\u6ca1\u6709\u627e\u5230\u7ad9\u70b9</td>\n      <td>vpsche.com</td>\n      <td>22</td>\n      <td>-1</td>\n      <td>0</td>\n      <td>1</td>\n      <td>927</td>\n      <td>15663</td>\n      <td>12847</td>\n      <td>2020-05-15</td>\n      <td>...</td>\n      <td>1</td>\n      <td>0</td>\n      <td>1</td>\n      <td>0</td>\n      <td>0</td>\n      <td>1</td>\n      <td>0</td>\n      <td>1</td>\n      <td>0</td>\n      <td>0</td>\n    </tr>\n    <tr>\n      <th>2</th>\n      <td>\u6797\u4e66\u8c6a(Jeremy Lin)\u7403\u8ff7\u7f51 | \u505a\u6700\u597d\u7684\u6797\u871c\u8bba\u575b | JLinFans.com</td>\n      <td>jlinfans.com</td>\n      <td>70</td>\n      <td>-1</td>\n      <td>0</td>\n      <td>84</td>\n      <td>1275</td>\n      <td>174803</td>\n      <td>163289</td>\n      <td>2020-05-12</td>\n      <td>...</td>\n      <td>122</td>\n      <td>0</td>\n      <td>3</td>\n      <td>119</td>\n      <td>0</td>\n      <td>122</td>\n      <td>0</td>\n      <td>122</td>\n      <td>0</td>\n      <td>0</td>\n    </tr>\n    <tr>\n      <th>3</th>\n      <td>\u6211\u8aaa(isay) - \u6797\u66f8\u8c6a(Jeremy Lin)\u8c6a\u8ff7\u5c08\u5340</td>\n      <td>isay.tw</td>\n      <td>101</td>\n      <td>-1</td>\n      <td>0</td>\n      <td>7</td>\n      <td>84319</td>\n      <td>45738</td>\n      <td>12985</td>\n      <td>2020-05-12</td>\n      <td>...</td>\n      <td>7</td>\n      <td>0</td>\n      <td>5</td>\n      <td>2</td>\n      <td>7</td>\n      <td>0</td>\n      <td>0</td>\n      <td>7</td>\n      <td>0</td>\n      <td>0</td>\n    </tr>\n    <tr>\n      <th>4</th>\n      <td>\u5c0f\u8c46\u5b50\u90e8\u843d\u683c - \u7b2c\u4e00\u624b3C\u79d1\u6280\u5831\u5c0e -</td>\n      <td>huandouzi.com</td>\n      <td>32</td>\n      <td>315064</td>\n      <td>0</td>\n      <td>204</td>\n      <td>1354</td>\n      <td>21964</td>\n      <td>20472</td>\n      <td>2020-05-12</td>\n      <td>...</td>\n      <td>204</td>\n      <td>0</td>\n      <td>204</td>\n      <td>0</td>\n      <td>0</td>\n      <td>204</td>\n      <td>0</td>\n      <td>0</td>\n      <td>0</td>\n      <td>204</td>\n    </tr>\n  </tbody>\n</table>\n<p>5 rows \u00d7 68 columns</p>\n</div>",
                        "text/plain": "                                          Title         Domain  RefDomains  \\\n0                                   \u9996\u9801 | PTT\u9ad4\u80b2\u5340  pttsports.com          14   \n1                                        \u6ca1\u6709\u627e\u5230\u7ad9\u70b9     vpsche.com          22   \n2  \u6797\u4e66\u8c6a(Jeremy Lin)\u7403\u8ff7\u7f51 | \u505a\u6700\u597d\u7684\u6797\u871c\u8bba\u575b | JLinFans.com   jlinfans.com          70   \n3                \u6211\u8aaa(isay) - \u6797\u66f8\u8c6a(Jeremy Lin)\u8c6a\u8ff7\u5c08\u5340        isay.tw         101   \n4                          \u5c0f\u8c46\u5b50\u90e8\u843d\u683c - \u7b2c\u4e00\u624b3C\u79d1\u6280\u5831\u5c0e -  huandouzi.com          32   \n\n   AlexaRank  Matches  MatchedLinks  ExtBackLinks  IndexedURLs  CrawledURLs  \\\n0         -1        0            23        662850       412017       312263   \n1         -1        0             1           927        15663        12847   \n2         -1        0            84          1275       174803       163289   \n3         -1        0             7         84319        45738        12985   \n4     315064        0           204          1354        21964        20472   \n\n  FirstCrawled  ... Direct Indirect Follow NoFollow HTTP  HTTPS  Redirect  \\\n0   2020-05-12  ...     23        0      0       23    0     23         0   \n1   2020-05-15  ...      1        0      1        0    0      1         0   \n2   2020-05-12  ...    122        0      3      119    0    122         0   \n3   2020-05-12  ...      7        0      5        2    7      0         0   \n4   2020-05-12  ...    204        0    204        0    0    204         0   \n\n   TextLink ImageLink Frame  \n0        23         0     0  \n1         1         0     0  \n2       122         0     0  \n3         7         0     0  \n4         0         0   204  \n\n[5 rows x 68 columns]"
                    },
                    "execution_count": 1,
                    "metadata": {},
                    "output_type": "execute_result"
                }
            ],
            "source": "# The code was removed by Watson Studio for sharing."
        },
        {
            "cell_type": "code",
            "execution_count": null,
            "metadata": {},
            "outputs": [],
            "source": ""
        }
    ],
    "metadata": {
        "kernelspec": {
            "display_name": "Python 3.6",
            "language": "python",
            "name": "python3"
        },
        "language_info": {
            "codemirror_mode": {
                "name": "ipython",
                "version": 3
            },
            "file_extension": ".py",
            "mimetype": "text/x-python",
            "name": "python",
            "nbconvert_exporter": "python",
            "pygments_lexer": "ipython3",
            "version": "3.6.9"
        }
    },
    "nbformat": 4,
    "nbformat_minor": 1
}